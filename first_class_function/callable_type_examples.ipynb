{
 "cells": [
  {
   "cell_type": "markdown",
   "metadata": {},
   "source": [
    "## 可调用对象"
   ]
  },
  {
   "cell_type": "markdown",
   "metadata": {},
   "source": [
    "```\n",
    "除了用户定义的函数，调用运算符（即 ()）还可以应用到其他对象上, Python 数据模型文档列出了 7 种可调用对象:\n",
    "\n",
    "    - 用户定义的函数: 使用 def 语句或 lambda 表达式创建\n",
    "    \n",
    "    - 内置函数: 使用 C 语言（ CPython）实现的函数，如 len 或 time.strftime。\n",
    "    \n",
    "    - 内置方法: 使用 C 语言实现的方法，如 dict.get\n",
    "    \n",
    "    - 方法: 在类的定义体中定义的函数\n",
    "    \n",
    "    - 类: 调用类时会运行类的 __new__ 方法创建一个实例，然后运行 __init__ 方法，初始化实例，最后把实例返回给调用方。\n",
    "    \n",
    "          因为 Python 没有new 运算符，所以调用类相当于调用函数\n",
    "          \n",
    "    - 类的实例: 如果类定义了 __call__ 方法，那么它的实例可以作为函数调用\n",
    "    \n",
    "    - 生成器函数: 使用 yield 关键字的函数或方法, 调用生成器函数返回的是生成器对象\n",
    "```"
   ]
  },
  {
   "cell_type": "code",
   "execution_count": 2,
   "metadata": {},
   "outputs": [
    {
     "data": {
      "text/plain": [
       "[True, True, False]"
      ]
     },
     "execution_count": 2,
     "metadata": {},
     "output_type": "execute_result"
    }
   ],
   "source": [
    "# 使用内置的 callable() 函数判断对象能否调用\n",
    "[callable(obj) for obj in (abs, str, 13)]"
   ]
  },
  {
   "cell_type": "markdown",
   "metadata": {},
   "source": [
    "## 用户定义的可调用类型"
   ]
  },
  {
   "cell_type": "code",
   "execution_count": null,
   "metadata": {},
   "outputs": [],
   "source": []
  }
 ],
 "metadata": {
  "kernelspec": {
   "display_name": "Python 3",
   "language": "python",
   "name": "python3"
  },
  "language_info": {
   "codemirror_mode": {
    "name": "ipython",
    "version": 3
   },
   "file_extension": ".py",
   "mimetype": "text/x-python",
   "name": "python",
   "nbconvert_exporter": "python",
   "pygments_lexer": "ipython3",
   "version": "3.7.1"
  }
 },
 "nbformat": 4,
 "nbformat_minor": 2
}

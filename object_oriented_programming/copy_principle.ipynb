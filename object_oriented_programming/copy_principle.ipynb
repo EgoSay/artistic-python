{
 "cells": [
  {
   "cell_type": "markdown",
   "metadata": {
    "collapsed": true
   },
   "source": [
    "## 复制列表（或多数内置的可变集合,浅复制）"
   ]
  },
  {
   "cell_type": "code",
   "execution_count": 1,
   "metadata": {},
   "outputs": [
    {
     "name": "stdout",
     "output_type": "stream",
     "text": [
      "[3, 17, [22, 9, 13], (41, 5, 37)]\n",
      "True\n",
      "False\n"
     ]
    }
   ],
   "source": [
    "l1 = [3, 17, [22, 9, 13], (41, 5, 37)]\n",
    "# 最简单的方式是使用内置的类型构造方法\n",
    "l2 = list(l1)\n",
    "print(l2)\n",
    "print(l2 == l1)\n",
    "print(l2 is l1)"
   ]
  },
  {
   "cell_type": "code",
   "execution_count": 2,
   "metadata": {},
   "outputs": [
    {
     "name": "stdout",
     "output_type": "stream",
     "text": [
      "[3, 17, [22, 9, 13], (41, 5, 37)]\n",
      "True\n",
      "False\n"
     ]
    }
   ],
   "source": [
    "# 或者用一个更简洁的方式\n",
    "l3 = l1[:]\n",
    "print(l3)\n",
    "print(l3 == l1)\n",
    "print(l3 is l1)"
   ]
  },
  {
   "cell_type": "markdown",
   "metadata": {},
   "source": [
    ">`==` 运算符比较两个对象的值（对象中保存的数据），而 `is` 比较对象的标识, 相当于其指向对象的内存地址<p>\n",
    ">可以看到, `l3`,`l2` `==` `l1`是 `True`, 而 `is` 判断为 `False`, 这是因为构造方法或 `[:]` 做的是浅复制（即复制了最外层容器，副本中的元素是源容器中元素的引用）"
   ]
  },
  {
   "cell_type": "markdown",
   "metadata": {},
   "source": [
    "## 为任意对象做深复制和浅复制"
   ]
  },
  {
   "cell_type": "code",
   "execution_count": null,
   "metadata": {},
   "outputs": [],
   "source": []
  }
 ],
 "metadata": {
  "kernelspec": {
   "display_name": "Python 3",
   "language": "python",
   "name": "python3"
  },
  "language_info": {
   "codemirror_mode": {
    "name": "ipython",
    "version": 3
   },
   "file_extension": ".py",
   "mimetype": "text/x-python",
   "name": "python",
   "nbconvert_exporter": "python",
   "pygments_lexer": "ipython3",
   "version": "3.7.1"
  }
 },
 "nbformat": 4,
 "nbformat_minor": 1
}

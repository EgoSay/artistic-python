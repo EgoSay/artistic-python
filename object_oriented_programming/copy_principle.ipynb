{
 "cells": [
  {
   "cell_type": "markdown",
   "metadata": {
    "collapsed": true
   },
   "source": [
    "## 复制列表（或多数内置的可变集合,浅复制）"
   ]
  },
  {
   "cell_type": "code",
   "execution_count": 1,
   "metadata": {},
   "outputs": [
    {
     "name": "stdout",
     "output_type": "stream",
     "text": [
      "[3, 17, [22, 9, 13], (41, 5, 37)]\n",
      "True\n",
      "False\n"
     ]
    }
   ],
   "source": [
    "l1 = [3, 17, [22, 9, 13], (41, 5, 37)]\n",
    "# 最简单的方式是使用内置的类型构造方法\n",
    "l2 = list(l1)\n",
    "print(l2)\n",
    "print(l2 == l1)\n",
    "print(l2 is l1)"
   ]
  },
  {
   "cell_type": "code",
   "execution_count": 2,
   "metadata": {},
   "outputs": [
    {
     "name": "stdout",
     "output_type": "stream",
     "text": [
      "[3, 17, [22, 9, 13], (41, 5, 37)]\n",
      "True\n",
      "False\n"
     ]
    }
   ],
   "source": [
    "# 或者用一个更简洁的方式\n",
    "l3 = l1[:]\n",
    "print(l3)\n",
    "print(l3 == l1)\n",
    "print(l3 is l1)"
   ]
  },
  {
   "cell_type": "markdown",
   "metadata": {},
   "source": [
    ">`==` 运算符比较两个对象的值（对象中保存的数据），而 `is` 比较对象的标识, 相当于其指向对象的内存地址<p>\n",
    ">可以看到, `l3`,`l2` `==` `l1`是 `True`, 而 `is` 判断为 `False`, 这是因为构造方法或 `[:]` 做的是浅复制（即复制了最外层容器，副本中的元素是源容器中元素的引用）, 换句话说浅拷贝产生的对象本身是新的，但是它的内容不是新的，只是对原对象的一个引用"
   ]
  },
  {
   "cell_type": "markdown",
   "metadata": {},
   "source": [
    "## 为任意对象做深复制和浅复制"
   ]
  },
  {
   "cell_type": "markdown",
   "metadata": {},
   "source": [
    ">深复制（即副本不共享内部对象的引用）<p>\n",
    ">就是在另一块地址中创建一个新的变量或容器，同时容器内的元素的地址也是新开辟的，仅仅是值相同而已，是完全的副本"
   ]
  },
  {
   "cell_type": "markdown",
   "metadata": {},
   "source": [
    ">copy模块提供的 deepcopy 和 copy 函数能为任意对象做深复制和浅复制。"
   ]
  },
  {
   "cell_type": "markdown",
   "metadata": {},
   "source": [
    "为了演示 `copy()` 和 `deepcopy()` 的用法，定义了一个简单的类， `Bus`。这个类表示运载乘客的校车，在途中乘客会上车或下车, 相当于一个对象中的属性值变化"
   ]
  },
  {
   "cell_type": "code",
   "execution_count": 9,
   "metadata": {},
   "outputs": [],
   "source": [
    "class Bus:\n",
    "    \n",
    "    def __init__(self, passengers=None):\n",
    "        if passengers is None:\n",
    "            self.passengers = []\n",
    "        else:\n",
    "            self.passengers = list(passengers)\n",
    "    \n",
    "    def pick(self, name):\n",
    "        self.passengers.append(name)\n",
    "    \n",
    "    def drop(self, name):\n",
    "        self.passengers.remove(name)"
   ]
  },
  {
   "cell_type": "code",
   "execution_count": 15,
   "metadata": {},
   "outputs": [
    {
     "data": {
      "text/plain": [
       "(4492902128, 4492902296, 4492901960)"
      ]
     },
     "execution_count": 15,
     "metadata": {},
     "output_type": "execute_result"
    }
   ],
   "source": [
    "import copy\n",
    "bus1 = Bus(['A1', 'B1', 'C1', 'D1'])\n",
    "bus2 = copy.copy(bus1)     # 浅复制\n",
    "bus3 = copy.deepcopy(bus1) # 深复制\n",
    "id(bus1), id(bus2), id(bus3)"
   ]
  },
  {
   "cell_type": "code",
   "execution_count": 16,
   "metadata": {},
   "outputs": [
    {
     "data": {
      "text/plain": [
       "['A1', 'C1', 'D1']"
      ]
     },
     "execution_count": 16,
     "metadata": {},
     "output_type": "execute_result"
    }
   ],
   "source": [
    "bus1.drop('B1')\n",
    "bus2.passengers"
   ]
  },
  {
   "cell_type": "code",
   "execution_count": 17,
   "metadata": {},
   "outputs": [
    {
     "data": {
      "text/plain": [
       "(4492388104, 4492388104, 4491483784)"
      ]
     },
     "execution_count": 17,
     "metadata": {},
     "output_type": "execute_result"
    }
   ],
   "source": [
    "id(bus1.passengers), id(bus2.passengers), id(bus3.passengers)"
   ]
  },
  {
   "cell_type": "code",
   "execution_count": 18,
   "metadata": {},
   "outputs": [
    {
     "data": {
      "text/plain": [
       "['A1', 'B1', 'C1', 'D1']"
      ]
     },
     "execution_count": 18,
     "metadata": {},
     "output_type": "execute_result"
    }
   ],
   "source": [
    "bus3.passengers"
   ]
  },
  {
   "cell_type": "markdown",
   "metadata": {},
   "source": [
    "👆上面示例代码的说明:\n",
    "1. 使用 copy 和 deepcopy，创建 3 个不同的 Bus 实例。\n",
    "2. bus1 中的 'B1' 下车后， bus2 中也没有他了。\n",
    "3. 审查 passengers 属性后发现， bus1 和 bus2 共享同一个列表对象，因为 bus2 是 bus1 的浅复制副本\n",
    "4. bus3 是 bus1 的深复制副本，因此它的 passengers 属性指代另一个列表"
   ]
  },
  {
   "cell_type": "markdown",
   "metadata": {},
   "source": [
    "再看 `bus1`, `bus2`, `bus3`三个对象实例的关系\n",
    "![](images/bus.png)\n",
    "可以看到 `bus1` 的浅复制 `bus2` 两个引用同一个对象, 而深复制 `bus3`却是另外一个"
   ]
  },
  {
   "cell_type": "markdown",
   "metadata": {},
   "source": [
    "### 思考🤔: Python中的浅复制和深复制好像可以类比于Java的浅拷贝和深拷贝\n",
    ">1、浅拷贝：对基本数据类型进行值传递，对引用数据类型进行引用传递般的拷贝，此为浅拷贝<p>\n",
    ">2、深拷贝：对基本数据类型进行值传递，对引用数据类型，创建一个新的对象，并复制其内容，此为深拷贝"
   ]
  },
  {
   "cell_type": "code",
   "execution_count": null,
   "metadata": {},
   "outputs": [],
   "source": []
  }
 ],
 "metadata": {
  "kernelspec": {
   "display_name": "Python 3",
   "language": "python",
   "name": "python3"
  },
  "language_info": {
   "codemirror_mode": {
    "name": "ipython",
    "version": 3
   },
   "file_extension": ".py",
   "mimetype": "text/x-python",
   "name": "python",
   "nbconvert_exporter": "python",
   "pygments_lexer": "ipython3",
   "version": "3.7.1"
  }
 },
 "nbformat": 4,
 "nbformat_minor": 1
}

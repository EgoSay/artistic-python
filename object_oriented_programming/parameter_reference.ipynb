{
 "cells": [
  {
   "cell_type": "markdown",
   "metadata": {
    "collapsed": true
   },
   "source": [
    "## 函数的参数引用\n",
    ">Python 唯一支持的参数传递模式是共享传参（ call by sharing）, 共享传参指函数的各个形式参数获得实参中各个引用的副本。也就是说，函数内部的形参是实参的别名。"
   ]
  },
  {
   "cell_type": "code",
   "execution_count": 11,
   "metadata": {},
   "outputs": [
    {
     "name": "stdout",
     "output_type": "stream",
     "text": [
      "执行函数结果:[1, 2, 3, 4]\n",
      "a:[1, 2, 3, 4], b:[3, 4]\n"
     ]
    }
   ],
   "source": [
    "def func(a, b):\n",
    "    a += b\n",
    "    return a\n",
    "\n",
    "a = [1, 2]\n",
    "b = [3, 4]\n",
    "print(\"执行函数结果:{}\".format(func(a, b)))\n",
    "print(\"a:{0}, b:{1}\".format(a, b))"
   ]
  },
  {
   "cell_type": "markdown",
   "metadata": {},
   "source": [
    ">列表是可变对象, 当作参数传入函数引用时会被修改, 同时实参 `a` 和形参 `para1` 指向的是同一个列表对象, 对象内容被修改了, 相当于是直接修改了这个对象的内容, 所以实参输出结果也变了\n",
    "![](images/para1.png)"
   ]
  },
  {
   "cell_type": "code",
   "execution_count": 9,
   "metadata": {},
   "outputs": [
    {
     "name": "stdout",
     "output_type": "stream",
     "text": [
      "执行函数结果:(10, 20, 20, 30)\n",
      "t:(10, 20), u:(20, 30)\n"
     ]
    }
   ],
   "source": [
    "t = (10, 20)\n",
    "u = (20, 30)\n",
    "print(\"执行函数结果:{}\".format(func(t, u)))\n",
    "print(\"t:{0}, u:{1}\".format(t,u))"
   ]
  },
  {
   "cell_type": "code",
   "execution_count": 12,
   "metadata": {},
   "outputs": [
    {
     "name": "stdout",
     "output_type": "stream",
     "text": [
      "执行函数结果:3\n",
      "x:1, y:2\n"
     ]
    }
   ],
   "source": [
    "x = 1\n",
    "y = 2\n",
    "print(\"执行函数结果:{}\".format(func(x, y)))\n",
    "print(\"x:{0}, y:{1}\".format(x, y))"
   ]
  },
  {
   "cell_type": "markdown",
   "metadata": {},
   "source": [
    ">如图, 一开始实参 `t` 和形参 `para1` 指向的是同一个对象, 但是因为在Python中元祖是不可变对象, 所以当形参内容执行函数后被修改了, 就会创建一个新的元祖对象, 形参指向的就是这个对象, 而不是原来跟实参指向一致了\n",
    "![](images/para3.png)\n",
    "![](images/para2.png)"
   ]
  },
  {
   "cell_type": "markdown",
   "metadata": {},
   "source": [
    "## 不要使用可变类型作为参数默认值"
   ]
  },
  {
   "cell_type": "markdown",
   "metadata": {},
   "source": [
    "> 在Python中我们可以将对象作为参数传入函数, 同时还能给函数的参数设置默认值, 但是应该⚠️注意不能将可变类型作为参数默认值, 比如下面示例:"
   ]
  }
 ],
 "metadata": {
  "kernelspec": {
   "display_name": "Python 3",
   "language": "python",
   "name": "python3"
  },
  "language_info": {
   "codemirror_mode": {
    "name": "ipython",
    "version": 3
   },
   "file_extension": ".py",
   "mimetype": "text/x-python",
   "name": "python",
   "nbconvert_exporter": "python",
   "pygments_lexer": "ipython3",
   "version": "3.7.1"
  }
 },
 "nbformat": 4,
 "nbformat_minor": 1
}

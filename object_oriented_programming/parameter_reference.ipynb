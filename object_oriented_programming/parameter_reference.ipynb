{
 "cells": [
  {
   "cell_type": "markdown",
   "metadata": {
    "collapsed": true
   },
   "source": [
    "## 函数的参数引用\n",
    ">Python 唯一支持的参数传递模式是共享传参（ call by sharing）, 共享传参指函数的各个形式参数获得实参中各个引用的副本。也就是说，函数内部的形参是实参的别名。"
   ]
  },
  {
   "cell_type": "code",
   "execution_count": 1,
   "metadata": {},
   "outputs": [
    {
     "name": "stdout",
     "output_type": "stream",
     "text": [
      "执行函数结果:[1, 2, 3, 4]\n",
      "a:[1, 2, 3, 4], b:[3, 4]\n"
     ]
    }
   ],
   "source": [
    "def func(a, b):\n",
    "    a += b\n",
    "    return a\n",
    "\n",
    "a = [1, 2]\n",
    "b = [3, 4]\n",
    "print(\"执行函数结果:{}\".format(func(a, b)))\n",
    "print(\"a:{0}, b:{1}\".format(a, b))"
   ]
  },
  {
   "cell_type": "markdown",
   "metadata": {},
   "source": [
    ">列表是可变对象, 当作参数传入函数引用时会被修改, 同时实参 `a` 和形参 `para1` 指向的是同一个列表对象, 对象内容被修改了, 相当于是直接修改了这个对象的内容, 所以实参输出结果也变了\n",
    "![](images/para1.png)"
   ]
  },
  {
   "cell_type": "code",
   "execution_count": 2,
   "metadata": {},
   "outputs": [
    {
     "name": "stdout",
     "output_type": "stream",
     "text": [
      "执行函数结果:(10, 20, 20, 30)\n",
      "t:(10, 20), u:(20, 30)\n"
     ]
    }
   ],
   "source": [
    "t = (10, 20)\n",
    "u = (20, 30)\n",
    "print(\"执行函数结果:{}\".format(func(t, u)))\n",
    "print(\"t:{0}, u:{1}\".format(t,u))"
   ]
  },
  {
   "cell_type": "code",
   "execution_count": 3,
   "metadata": {},
   "outputs": [
    {
     "name": "stdout",
     "output_type": "stream",
     "text": [
      "执行函数结果:3\n",
      "x:1, y:2\n"
     ]
    }
   ],
   "source": [
    "x = 1\n",
    "y = 2\n",
    "print(\"执行函数结果:{}\".format(func(x, y)))\n",
    "print(\"x:{0}, y:{1}\".format(x, y))"
   ]
  },
  {
   "cell_type": "markdown",
   "metadata": {},
   "source": [
    ">如图, 一开始实参 `t` 和形参 `para1` 指向的是同一个对象, 但是因为在Python中元祖是不可变对象, 所以当形参内容执行函数后被修改了, 就会创建一个新的元祖对象, 形参指向的就是这个对象, 而不是原来跟实参指向一致了\n",
    "![](images/para3.png)\n",
    "![](images/para2.png)"
   ]
  },
  {
   "cell_type": "markdown",
   "metadata": {},
   "source": [
    "## 不要使用可变类型作为参数默认值"
   ]
  },
  {
   "cell_type": "markdown",
   "metadata": {},
   "source": [
    "> 在Python中我们可以将对象作为参数传入函数, 同时还能给函数的参数设置默认值, 但是应该⚠️注意不能将可变类型作为参数默认值, 比如下面示例:"
   ]
  },
  {
   "cell_type": "code",
   "execution_count": 4,
   "metadata": {},
   "outputs": [],
   "source": [
    "class HauntedBus:\n",
    "    \n",
    "    def __init__(self, passengers=[]):\n",
    "        \"\"\"这里passengers设置默认参数为一个空列表,这是错误的\"\"\"\n",
    "        self.passengers = passengers \n",
    "        \n",
    "    def pick(self, name):\n",
    "        self.passengers.append(name) \n",
    "        \n",
    "    def drop(self, name):\n",
    "        self.passengers.remove(name)\n",
    "        "
   ]
  },
  {
   "cell_type": "code",
   "execution_count": 5,
   "metadata": {},
   "outputs": [
    {
     "name": "stdout",
     "output_type": "stream",
     "text": [
      "初始化 bus1 :['A1', 'B1']\n",
      "修改后 bus1 :['A1', 'C1']\n",
      "初始化 bus2 :[]\n",
      "修改后 bus2 :['D1']\n",
      "初始化 bus3 :['D1']\n"
     ]
    }
   ],
   "source": [
    "bus1 = HauntedBus(['A1', 'B1'])\n",
    "print(\"初始化 bus1 :{0}\".format(bus1.passengers))\n",
    "bus1.pick('C1')\n",
    "bus1.drop('B1')\n",
    "print(\"修改后 bus1 :{0}\".format(bus1.passengers))\n",
    "bus2 = HauntedBus()\n",
    "print(\"初始化 bus2 :{0}\".format(bus2.passengers))\n",
    "bus2.pick('D1')\n",
    "print(\"修改后 bus2 :{0}\".format(bus2.passengers))\n",
    "bus3 = HauntedBus()\n",
    "print(\"初始化 bus3 :{0}\".format(bus3.passengers))"
   ]
  },
  {
   "cell_type": "markdown",
   "metadata": {},
   "source": [
    ">可以看到初始化 `bus3` 后其默认赋值不是空列表了, 而是修改后`bus2`内容"
   ]
  },
  {
   "cell_type": "markdown",
   "metadata": {},
   "source": [
    "### 再看: "
   ]
  },
  {
   "cell_type": "code",
   "execution_count": 6,
   "metadata": {},
   "outputs": [
    {
     "name": "stdout",
     "output_type": "stream",
     "text": [
      "修改后 bus2 :['D1', 'E1']\n",
      "True\n",
      "修改后 bus1 :['A1', 'C1']\n"
     ]
    }
   ],
   "source": [
    "bus3.pick('E1')\n",
    "print(\"修改后 bus2 :{0}\".format(bus2.passengers))\n",
    "print(bus2.passengers is bus3.passengers)\n",
    "print(\"修改后 bus1 :{0}\".format(bus1.passengers))"
   ]
  },
  {
   "cell_type": "markdown",
   "metadata": {},
   "source": [
    "> 从以上例子可以看出, `bus2.passengers`, `bus3.passengers` 指代同一个列表, 但 `bus1.passengers`不是<p>\n",
    ">So why?<p>\n",
    "> 因为初始化 `bus1`时 指定了一个初始列表, 而 `bus2` 和 `bus3`都是默认为空, 所以它们共享同一个列表<p>\n",
    "如图所示:\n",
    "![](images/para4.png)\n",
    ">出现这个问题的根源是，默认值在定义函数时计算（通常在加载模块时），因此默认值变成了函数对象的属性, \n",
    ">比如这里就是因为 `self.passengers` 变成了 `passengers` 参数默认值的别名。\n",
    ">因此，如果默认值是可变对象，而且修改了它的值，那么后续的函数调用都会受到影响。"
   ]
  },
  {
   "cell_type": "markdown",
   "metadata": {},
   "source": [
    "### 再看下面这样定义, 使用 `None`  作为接收可变值的参数的默认值"
   ]
  },
  {
   "cell_type": "code",
   "execution_count": 8,
   "metadata": {},
   "outputs": [
    {
     "name": "stdout",
     "output_type": "stream",
     "text": [
      "['C1', 'D1', 'E1']\n"
     ]
    }
   ],
   "source": [
    "class Bus:\n",
    "    \n",
    "    def __init__(self, passengers=None):        # 参考这样初始化\n",
    "        if passengers is None:\n",
    "            self.passengers = []        \n",
    "        else:\n",
    "            self.passengers = passengers   # ⚠️注意这里\n",
    "    \n",
    "    def pick(self, name):\n",
    "        self.passengers.append(name)\n",
    "    \n",
    "    def drop(self, name):\n",
    "        self.passengers.remove(name)\n",
    "        \n",
    "\n",
    "team = ['A1', 'B1', 'C1', 'D1', 'E1']\n",
    "bus4 = Bus(team)\n",
    "bus4.drop('A1')\n",
    "bus4.drop('B1')\n",
    "print(team)"
   ]
  },
  {
   "cell_type": "markdown",
   "metadata": {},
   "source": [
    "> 看结果, 修改了 `bus4`, 为什么 `team`这个列表对象内容也发生变化了呢?<p>\n",
    "> 注意上面标记处, `self.passengers = passengers`, 因为`passengers`是列表可变对象, 而`passengers` 和`team`指向的是同一个列表对象, 所以内容发生了变化, 参考上面`函数的参数引用`说明<p>\n",
    ">正确的做法应该是如[`copy_principle.ipynb`](copy_principle.ipynb)中那样定义一个 `bus` 类, 修改为`self.passengers = list(passengers)`<p>"
   ]
  },
  {
   "cell_type": "code",
   "execution_count": null,
   "metadata": {},
   "outputs": [],
   "source": []
  }
 ],
 "metadata": {
  "kernelspec": {
   "display_name": "Python 3",
   "language": "python",
   "name": "python3"
  },
  "language_info": {
   "codemirror_mode": {
    "name": "ipython",
    "version": 3
   },
   "file_extension": ".py",
   "mimetype": "text/x-python",
   "name": "python",
   "nbconvert_exporter": "python",
   "pygments_lexer": "ipython3",
   "version": "3.7.1"
  }
 },
 "nbformat": 4,
 "nbformat_minor": 1
}
